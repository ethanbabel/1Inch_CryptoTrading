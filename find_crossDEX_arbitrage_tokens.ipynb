{
 "cells": [
  {
   "cell_type": "code",
   "execution_count": 1,
   "metadata": {},
   "outputs": [],
   "source": [
    "import json"
   ]
  },
  {
   "cell_type": "code",
   "execution_count": 2,
   "metadata": {},
   "outputs": [
    {
     "name": "stdout",
     "output_type": "stream",
     "text": [
      "Found 869 tokens available on multiple DEXs.\n",
      "Saved to multi_dex_tokens.json\n"
     ]
    }
   ],
   "source": [
    "# Load your token JSON file\n",
    "with open(\"specific_tokens_info.json\", \"r\") as f:\n",
    "    tokens_data = json.load(f)\n",
    "\n",
    "# Dictionary to store tokens available on multiple DEXs\n",
    "multi_dex_tokens = {}\n",
    "\n",
    "# Iterate through tokens\n",
    "for token_address, token_info in tokens_data.items():\n",
    "    providers = token_info.get(\"providers\", [])  # List of DEXs/providers\n",
    "\n",
    "    if len(providers) > 1:  # Check if the token is listed on multiple DEXs\n",
    "        multi_dex_tokens[token_address] = {\n",
    "            \"symbol\": token_info.get(\"symbol\"),\n",
    "            \"name\": token_info.get(\"name\"),\n",
    "            \"providers\": providers,  # List of DEXs this token is available on\n",
    "        }\n",
    "\n",
    "# Save the result to a JSON file\n",
    "with open(\"multi_dex_tokens.json\", \"w\") as f:\n",
    "    json.dump(multi_dex_tokens, f, indent=4)\n",
    "\n",
    "# Print summary\n",
    "print(f\"Found {len(multi_dex_tokens)} tokens available on multiple DEXs.\")\n",
    "print(\"Saved to multi_dex_tokens.json\")"
   ]
  },
  {
   "cell_type": "code",
   "execution_count": 3,
   "metadata": {},
   "outputs": [
    {
     "name": "stdout",
     "output_type": "stream",
     "text": [
      "Found 28 unique providers.\n",
      "Saved to dex_providers.json\n"
     ]
    }
   ],
   "source": [
    "# Load the JSON file containing tokens available on multiple DEXs\n",
    "with open(\"multi_dex_tokens.json\", \"r\") as f:\n",
    "    multi_dex_tokens = json.load(f)\n",
    "\n",
    "# Set to store unique providers (DEXs)\n",
    "providers_set = set()\n",
    "\n",
    "# Iterate over tokens and collect all providers\n",
    "for token_info in multi_dex_tokens.values():\n",
    "    providers_set.update(token_info[\"providers\"])\n",
    "\n",
    "# Convert to a sorted list\n",
    "providers_list = sorted(providers_set)\n",
    "\n",
    "# Save the result to a JSON file\n",
    "with open(\"dex_providers.json\", \"w\") as f:\n",
    "    json.dump(providers_list, f, indent=4)\n",
    "\n",
    "# Print summary\n",
    "print(f\"Found {len(providers_list)} unique providers.\")\n",
    "print(\"Saved to dex_providers.json\")"
   ]
  }
 ],
 "metadata": {
  "kernelspec": {
   "display_name": ".venv",
   "language": "python",
   "name": "python3"
  },
  "language_info": {
   "codemirror_mode": {
    "name": "ipython",
    "version": 3
   },
   "file_extension": ".py",
   "mimetype": "text/x-python",
   "name": "python",
   "nbconvert_exporter": "python",
   "pygments_lexer": "ipython3",
   "version": "3.12.3"
  }
 },
 "nbformat": 4,
 "nbformat_minor": 2
}
