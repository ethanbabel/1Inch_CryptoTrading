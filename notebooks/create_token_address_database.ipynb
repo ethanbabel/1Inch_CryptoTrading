{
 "cells": [
  {
   "cell_type": "code",
   "execution_count": 1,
   "metadata": {},
   "outputs": [],
   "source": [
    "import json\n",
    "import csv\n",
    "\n",
    "# Load the JSON data\n",
    "with open('all_tokens_info.json', 'r') as file:\n",
    "    tokens_info = json.load(file)\n",
    "\n",
    "# Open a CSV file for writing\n",
    "with open('tokens_database.csv', 'w', newline='') as csvfile:\n",
    "    csvwriter = csv.writer(csvfile)\n",
    "    \n",
    "    # Write the header\n",
    "    csvwriter.writerow(['ticker', 'address'])\n",
    "    \n",
    "    # Iterate through the tokens and write to the CSV\n",
    "    for address, token in tokens_info.items():\n",
    "        ticker = token.get('symbol')\n",
    "        csvwriter.writerow([ticker, address])"
   ]
  }
 ],
 "metadata": {
  "kernelspec": {
   "display_name": ".venv",
   "language": "python",
   "name": "python3"
  },
  "language_info": {
   "codemirror_mode": {
    "name": "ipython",
    "version": 3
   },
   "file_extension": ".py",
   "mimetype": "text/x-python",
   "name": "python",
   "nbconvert_exporter": "python",
   "pygments_lexer": "ipython3",
   "version": "3.12.0"
  }
 },
 "nbformat": 4,
 "nbformat_minor": 2
}
