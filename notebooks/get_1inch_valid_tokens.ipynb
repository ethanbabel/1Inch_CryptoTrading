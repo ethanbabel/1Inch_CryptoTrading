{
 "cells": [
  {
   "cell_type": "code",
   "execution_count": 5,
   "metadata": {},
   "outputs": [],
   "source": [
    "import requests\n",
    "from dotenv import load_dotenv\n",
    "import os\n",
    "import csv\n",
    "\n",
    "load_dotenv()\n",
    "API_KEY = os.getenv(\"1INCH_API_KEY\")\n",
    "\n",
    "def get_available_tokens():\n",
    "    url = \"https://api.1inch.dev/swap/v6.0/1/tokens\"\n",
    "    headers = {\n",
    "        \"Authorization\": f\"Bearer {API_KEY}\",\n",
    "        \"accept\": \"application/json\"\n",
    "    }\n",
    "    response = requests.get(url, headers=headers)\n",
    "    \n",
    "    if response.status_code == 200:\n",
    "        return response.json().get(\"tokens\", {})  # Returns dict of {address: token_info}\n",
    "    else:\n",
    "        print(f\"⚠️ Failed to fetch available tokens. API response: {response.text}\")\n",
    "        return {}\n",
    "\n",
    "valid_tokens = get_available_tokens()\n",
    "with open('valid_tokens.csv', mode='w', newline='') as file:\n",
    "    writer = csv.writer(file)\n",
    "    writer.writerow(['ticker', 'symbol'])\n",
    "    for token in valid_tokens.values():\n",
    "        writer.writerow([token['symbol'], token['address']])\n",
    "    \n"
   ]
  }
 ],
 "metadata": {
  "kernelspec": {
   "display_name": ".venv",
   "language": "python",
   "name": "python3"
  },
  "language_info": {
   "codemirror_mode": {
    "name": "ipython",
    "version": 3
   },
   "file_extension": ".py",
   "mimetype": "text/x-python",
   "name": "python",
   "nbconvert_exporter": "python",
   "pygments_lexer": "ipython3",
   "version": "3.12.0"
  }
 },
 "nbformat": 4,
 "nbformat_minor": 2
}
